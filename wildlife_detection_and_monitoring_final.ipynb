{
  "cells": [
    {
      "cell_type": "code",
      "execution_count": null,
      "metadata": {
        "_cell_guid": "b1076dfc-b9ad-4769-8c92-a6c4dae69d19",
        "_uuid": "8f2839f25d086af736a60e9eeb907d3b93b6e0e5",
        "tags": [],
        "id": "bwaFkkUkWuwv"
      },
      "outputs": [],
      "source": [
        "%matplotlib inline\n",
        "import matplotlib.pyplot as plt\n",
        "import numpy as np\n",
        "import tensorflow as tf\n",
        "import random\n",
        "from cv2 import resize\n",
        "from glob import glob"
      ]
    },
    {
      "cell_type": "code",
      "source": [
        "from google.colab import drive\n",
        "drive.mount('/content/drive')"
      ],
      "metadata": {
        "colab": {
          "base_uri": "https://localhost:8080/"
        },
        "id": "gDeNZC78AMkv",
        "outputId": "212aea56-dd2e-41c9-ac83-fca20fca7a1c"
      },
      "execution_count": null,
      "outputs": [
        {
          "output_type": "stream",
          "name": "stdout",
          "text": [
            "Drive already mounted at /content/drive; to attempt to forcibly remount, call drive.mount(\"/content/drive\", force_remount=True).\n"
          ]
        }
      ]
    },
    {
      "cell_type": "markdown",
      "metadata": {
        "id": "kGo1MnXYWuww"
      },
      "source": [
        "In tensorflow, we can easily load image datasets with directory structure like this using `image_dataset_from_directory`."
      ]
    },
    {
      "cell_type": "code",
      "execution_count": null,
      "metadata": {
        "colab": {
          "base_uri": "https://localhost:8080/"
        },
        "id": "T1A4LCU3Wuwx",
        "outputId": "7590dc1f-bf09-4b2f-f9cd-7af26e6cc8ee"
      },
      "outputs": [
        {
          "output_type": "stream",
          "name": "stdout",
          "text": [
            "Drive already mounted at /content/drive; to attempt to forcibly remount, call drive.mount(\"/content/drive\", force_remount=True).\n",
            "MyDrive  Shareddrives\n"
          ]
        }
      ],
      "source": [
        "from google.colab import drive\n",
        "drive.mount('/content/drive')\n",
        "\n",
        "!ls /content/drive/"
      ]
    },
    {
      "cell_type": "code",
      "execution_count": null,
      "metadata": {
        "tags": [],
        "id": "DEB3Nk06Wuwx"
      },
      "outputs": [],
      "source": [
        "%matplotlib inline\n",
        "import matplotlib.pyplot as plt\n",
        "import numpy as np\n",
        "import random\n",
        "from cv2 import resize\n",
        "from glob import glob\n",
        "import tensorflow as tf"
      ]
    },
    {
      "cell_type": "code",
      "execution_count": null,
      "metadata": {
        "tags": [],
        "colab": {
          "base_uri": "https://localhost:8080/"
        },
        "id": "RufY4SQQWuwx",
        "outputId": "18fe32a6-a755-48f0-a39a-49fef43d7618"
      },
      "outputs": [
        {
          "output_type": "stream",
          "name": "stdout",
          "text": [
            "Found 5540 files belonging to 90 classes.\n",
            "Using 4432 files for training.\n",
            "Found 5540 files belonging to 90 classes.\n",
            "Using 1108 files for validation.\n"
          ]
        }
      ],
      "source": [
        "img_height = 224\n",
        "img_width = 224\n",
        "\n",
        "\n",
        "train_ds = tf.keras.utils.image_dataset_from_directory(\n",
        "  r'/content/drive/MyDrive/animals',\n",
        "  validation_split=0.2,\n",
        "  subset='training',\n",
        "  image_size=(img_height, img_width),\n",
        "  batch_size=32,\n",
        "  seed=42,\n",
        "  shuffle=True)\n",
        "\n",
        "val_ds = tf.keras.utils.image_dataset_from_directory(\n",
        "  r'/content/drive/MyDrive/animals',\n",
        "  validation_split=0.2,\n",
        "  subset='validation',\n",
        "  image_size=(img_height, img_width),\n",
        "  batch_size=32,\n",
        "  seed=42,\n",
        "  shuffle=True)\n"
      ]
    },
    {
      "cell_type": "markdown",
      "metadata": {
        "id": "OunHfzn8Wuwx"
      },
      "source": [
        "Let's load VGG-16 pretrained on imagenet as the base model."
      ]
    },
    {
      "cell_type": "code",
      "execution_count": null,
      "metadata": {
        "tags": [],
        "id": "6Jt2-ci0Wuwx",
        "colab": {
          "base_uri": "https://localhost:8080/"
        },
        "outputId": "a1a99cba-599d-4b4a-c720-dc9c10a162d3"
      },
      "outputs": [
        {
          "output_type": "stream",
          "name": "stdout",
          "text": [
            "Downloading data from https://storage.googleapis.com/tensorflow/keras-applications/vgg16/vgg16_weights_tf_dim_ordering_tf_kernels_notop.h5\n",
            "58889256/58889256 [==============================] - 0s 0us/step\n"
          ]
        }
      ],
      "source": [
        "base_model = tf.keras.applications.VGG16(\n",
        "    include_top=False,\n",
        "    weights='imagenet',\n",
        "    input_shape=(img_height, img_width, 3)\n",
        ")\n",
        "base_model.trainable = False # Freeze VGG-16 for now"
      ]
    },
    {
      "cell_type": "markdown",
      "metadata": {
        "id": "WN9QzBznWuwx"
      },
      "source": [
        "Add own output layers to form a complete model."
      ]
    },
    {
      "cell_type": "code",
      "execution_count": null,
      "metadata": {
        "tags": [],
        "id": "Um-4vv-VWuwx"
      },
      "outputs": [],
      "source": [
        "import torch\n",
        "\n",
        "# Check if GPU is available\n",
        "device = torch.device(\"cuda\" if torch.cuda.is_available() else \"cpu\")\n",
        "\n",
        "# Assuming you have a tensor 'input_tensor' and a model 'model'\n",
        "input_tensor = torch.tensor([1, 2, 3])  # Example tensor\n",
        "model = torch.nn.Linear(10, 5)  # Example model\n",
        "\n",
        "input_tensor = input_tensor.to(device)\n",
        "model = model.to(device)"
      ]
    },
    {
      "cell_type": "code",
      "execution_count": null,
      "metadata": {
        "tags": [],
        "id": "HL-VZO7GWuwy",
        "colab": {
          "base_uri": "https://localhost:8080/"
        },
        "outputId": "d0fe15e7-db8c-418c-ee0c-85b276811546"
      },
      "outputs": [
        {
          "output_type": "stream",
          "name": "stdout",
          "text": [
            "Model: \"model\"\n",
            "_________________________________________________________________\n",
            " Layer (type)                Output Shape              Param #   \n",
            "=================================================================\n",
            " input_2 (InputLayer)        [(None, 224, 224, 3)]     0         \n",
            "                                                                 \n",
            " tf.__operators__.getitem (  (None, 224, 224, 3)       0         \n",
            " SlicingOpLambda)                                                \n",
            "                                                                 \n",
            " tf.nn.bias_add (TFOpLambda  (None, 224, 224, 3)       0         \n",
            " )                                                               \n",
            "                                                                 \n",
            " vgg16 (Functional)          (None, 7, 7, 512)         14714688  \n",
            "                                                                 \n",
            " global_average_pooling2d (  (None, 512)               0         \n",
            " GlobalAveragePooling2D)                                         \n",
            "                                                                 \n",
            " dropout (Dropout)           (None, 512)               0         \n",
            "                                                                 \n",
            " dense (Dense)               (None, 90)                46170     \n",
            "                                                                 \n",
            "=================================================================\n",
            "Total params: 14760858 (56.31 MB)\n",
            "Trainable params: 46170 (180.35 KB)\n",
            "Non-trainable params: 14714688 (56.13 MB)\n",
            "_________________________________________________________________\n"
          ]
        }
      ],
      "source": [
        "inputs = tf.keras.Input(shape=(img_height, img_width, 3))\n",
        "x = tf.keras.applications.vgg16.preprocess_input(inputs)\n",
        "x = base_model(x, training=False)\n",
        "x = tf.keras.layers.GlobalAveragePooling2D()(x)\n",
        "x = tf.keras.layers.Dropout(0.3)(x)\n",
        "outputs = tf.keras.layers.Dense(90)(x)\n",
        "model = tf.keras.Model(inputs, outputs)\n",
        "\n",
        "model.summary()"
      ]
    },
    {
      "cell_type": "code",
      "execution_count": null,
      "metadata": {
        "tags": [],
        "id": "53h5bopvWuwy"
      },
      "outputs": [],
      "source": [
        "model.compile(optimizer=tf.keras.optimizers.legacy.Adam(0.001),\n",
        "              loss=tf.keras.losses.SparseCategoricalCrossentropy(from_logits=True),\n",
        "              metrics=['accuracy'])"
      ]
    },
    {
      "cell_type": "markdown",
      "metadata": {
        "id": "30dDTIIoWuwy"
      },
      "source": [
        "Train the fully-connected layer."
      ]
    },
    {
      "cell_type": "code",
      "execution_count": null,
      "metadata": {
        "tags": [],
        "id": "dvKKC7rnWuwy",
        "colab": {
          "base_uri": "https://localhost:8080/"
        },
        "outputId": "f6ceab56-1b9d-4cd8-a9e0-2f4deb75cab5"
      },
      "outputs": [
        {
          "output_type": "stream",
          "name": "stdout",
          "text": [
            "Epoch 1/10\n",
            "139/139 [==============================] - 1336s 9s/step - loss: 11.7713 - accuracy: 0.1137 - val_loss: 3.6939 - val_accuracy: 0.4070\n",
            "Epoch 2/10\n",
            "139/139 [==============================] - 39s 271ms/step - loss: 4.4180 - accuracy: 0.4016 - val_loss: 2.0261 - val_accuracy: 0.6155\n",
            "Epoch 3/10\n",
            "139/139 [==============================] - 37s 258ms/step - loss: 2.5621 - accuracy: 0.5835 - val_loss: 1.5215 - val_accuracy: 0.7148\n",
            "Epoch 4/10\n",
            "139/139 [==============================] - 37s 257ms/step - loss: 1.7419 - accuracy: 0.6722 - val_loss: 1.2453 - val_accuracy: 0.7798\n",
            "Epoch 5/10\n",
            "139/139 [==============================] - 40s 276ms/step - loss: 1.2381 - accuracy: 0.7529 - val_loss: 1.1790 - val_accuracy: 0.7915\n",
            "Epoch 6/10\n",
            "139/139 [==============================] - 38s 262ms/step - loss: 0.9940 - accuracy: 0.7881 - val_loss: 1.1233 - val_accuracy: 0.7978\n",
            "Epoch 7/10\n",
            "139/139 [==============================] - 40s 276ms/step - loss: 0.8166 - accuracy: 0.8157 - val_loss: 1.0244 - val_accuracy: 0.8213\n",
            "Epoch 8/10\n",
            "139/139 [==============================] - 39s 273ms/step - loss: 0.6177 - accuracy: 0.8472 - val_loss: 0.9822 - val_accuracy: 0.8267\n",
            "Epoch 9/10\n",
            "139/139 [==============================] - 40s 280ms/step - loss: 0.5437 - accuracy: 0.8637 - val_loss: 0.9750 - val_accuracy: 0.8348\n",
            "Epoch 10/10\n",
            "139/139 [==============================] - 39s 273ms/step - loss: 0.4376 - accuracy: 0.8856 - val_loss: 0.9502 - val_accuracy: 0.8403\n"
          ]
        },
        {
          "output_type": "execute_result",
          "data": {
            "text/plain": [
              "<keras.src.callbacks.History at 0x791b341ddd80>"
            ]
          },
          "metadata": {},
          "execution_count": 12
        }
      ],
      "source": [
        "num_epochs = 10\n",
        "model.fit(train_ds, validation_data=val_ds, epochs=num_epochs,\n",
        "    callbacks = [\n",
        "        tf.keras.callbacks.EarlyStopping(\n",
        "            # Stop training when `val_loss` is no longer improving\n",
        "            monitor=\"val_loss\",\n",
        "            # \"no longer improving\" being defined as \"no better than 1e-2 less\"\n",
        "            min_delta=1e-2,\n",
        "            # \"no longer improving\" being further defined as \"for at least 2 epochs\"\n",
        "            patience=2,\n",
        "            verbose=1,\n",
        "            restore_best_weights=True\n",
        "        )\n",
        "    ]\n",
        ")"
      ]
    },
    {
      "cell_type": "markdown",
      "metadata": {
        "id": "mUvajBBIWuwy"
      },
      "source": [
        "If output layer is showing good result, now we unfreeze part of the VGG-16 to do fine-tuning."
      ]
    },
    {
      "cell_type": "code",
      "execution_count": null,
      "metadata": {
        "tags": [],
        "id": "Qxdw6kUPWuwy",
        "colab": {
          "base_uri": "https://localhost:8080/"
        },
        "outputId": "205054af-7cb5-42b6-e010-34da5f6186bb"
      },
      "outputs": [
        {
          "output_type": "stream",
          "name": "stdout",
          "text": [
            "Model: \"model\"\n",
            "_________________________________________________________________\n",
            " Layer (type)                Output Shape              Param #   \n",
            "=================================================================\n",
            " input_2 (InputLayer)        [(None, 224, 224, 3)]     0         \n",
            "                                                                 \n",
            " tf.__operators__.getitem (  (None, 224, 224, 3)       0         \n",
            " SlicingOpLambda)                                                \n",
            "                                                                 \n",
            " tf.nn.bias_add (TFOpLambda  (None, 224, 224, 3)       0         \n",
            " )                                                               \n",
            "                                                                 \n",
            " vgg16 (Functional)          (None, 7, 7, 512)         14714688  \n",
            "                                                                 \n",
            " global_average_pooling2d (  (None, 512)               0         \n",
            " GlobalAveragePooling2D)                                         \n",
            "                                                                 \n",
            " dropout (Dropout)           (None, 512)               0         \n",
            "                                                                 \n",
            " dense (Dense)               (None, 90)                46170     \n",
            "                                                                 \n",
            "=================================================================\n",
            "Total params: 14760858 (56.31 MB)\n",
            "Trainable params: 7125594 (27.18 MB)\n",
            "Non-trainable params: 7635264 (29.13 MB)\n",
            "_________________________________________________________________\n"
          ]
        }
      ],
      "source": [
        "# fine tuning\n",
        "base_model.trainable = True\n",
        "for layer in base_model.layers[:14]:\n",
        "    layer.trainable = False\n",
        "model.summary()"
      ]
    },
    {
      "cell_type": "code",
      "execution_count": null,
      "metadata": {
        "tags": [],
        "id": "PJ2Socl6Wuwy"
      },
      "outputs": [],
      "source": [
        "model.compile(optimizer=tf.keras.optimizers.Adam(0.0001), # use a lower learning rate when fine-tuning\n",
        "              loss=tf.keras.losses.SparseCategoricalCrossentropy(from_logits=True),\n",
        "              metrics=['accuracy'])"
      ]
    },
    {
      "cell_type": "code",
      "execution_count": null,
      "metadata": {
        "tags": [],
        "id": "IYtIeNeiWuwz",
        "colab": {
          "base_uri": "https://localhost:8080/"
        },
        "outputId": "a165c9f8-957f-41e1-e281-a3a61820ab67"
      },
      "outputs": [
        {
          "output_type": "stream",
          "name": "stdout",
          "text": [
            "Epoch 1/5\n",
            "139/139 [==============================] - 42s 270ms/step - loss: 0.7603 - accuracy: 0.7881 - val_loss: 0.8066 - val_accuracy: 0.8150\n",
            "Epoch 2/5\n",
            "139/139 [==============================] - 38s 266ms/step - loss: 0.3520 - accuracy: 0.8973 - val_loss: 0.6808 - val_accuracy: 0.8475\n",
            "Epoch 3/5\n",
            "139/139 [==============================] - 39s 269ms/step - loss: 0.2247 - accuracy: 0.9305 - val_loss: 0.7200 - val_accuracy: 0.8294\n",
            "Epoch 4/5\n",
            "139/139 [==============================] - 38s 266ms/step - loss: 0.1497 - accuracy: 0.9546 - val_loss: 0.6963 - val_accuracy: 0.8583\n",
            "Epoch 4: early stopping\n"
          ]
        }
      ],
      "source": [
        "num_epochs = 5\n",
        "history = model.fit(train_ds, validation_data=val_ds, epochs=num_epochs,\n",
        "    callbacks = [\n",
        "        tf.keras.callbacks.EarlyStopping(\n",
        "            # Stop training when `val_loss` is no longer improving\n",
        "            monitor=\"val_loss\",\n",
        "            # \"no longer improving\" being defined as \"no better than 1e-2 less\"\n",
        "            min_delta=1e-2,\n",
        "            # \"no longer improving\" being further defined as \"for at least 2 epochs\"\n",
        "            patience=2,\n",
        "            verbose=1,\n",
        "        )\n",
        "    ]\n",
        ")"
      ]
    },
    {
      "cell_type": "markdown",
      "metadata": {
        "id": "YfSwsftWWuwz"
      },
      "source": [
        "After training, choose a random picture and see its prediction."
      ]
    },
    {
      "cell_type": "code",
      "source": [
        "img_path_list = glob(r'/content/drive/MyDrive/animals/tiger/*.jpg')\n",
        "print(img_path_list)"
      ],
      "metadata": {
        "id": "xkcAEdg7HLv_",
        "colab": {
          "base_uri": "https://localhost:8080/"
        },
        "outputId": "bf94c701-bed6-42af-bfb4-a603c8fd3122"
      },
      "execution_count": null,
      "outputs": [
        {
          "output_type": "stream",
          "name": "stdout",
          "text": [
            "['/content/drive/MyDrive/animals/tiger/073cf8732d.jpg', '/content/drive/MyDrive/animals/tiger/7be18d2d89.jpg', '/content/drive/MyDrive/animals/tiger/048cbe616d.jpg', '/content/drive/MyDrive/animals/tiger/05e416d392.jpg', '/content/drive/MyDrive/animals/tiger/0a5f5db460.jpg', '/content/drive/MyDrive/animals/tiger/0ce688e813.jpg', '/content/drive/MyDrive/animals/tiger/0aadbd5936.jpg', '/content/drive/MyDrive/animals/tiger/0f5be6eac8.jpg', '/content/drive/MyDrive/animals/tiger/0fdebd9663.jpg', '/content/drive/MyDrive/animals/tiger/10dc291203.jpg', '/content/drive/MyDrive/animals/tiger/1e821d2ec6.jpg', '/content/drive/MyDrive/animals/tiger/15b4abdb66.jpg', '/content/drive/MyDrive/animals/tiger/18ffb9a228.jpg', '/content/drive/MyDrive/animals/tiger/20ba7edcc3.jpg', '/content/drive/MyDrive/animals/tiger/21a3753e48.jpg', '/content/drive/MyDrive/animals/tiger/2c75c39ece.jpg', '/content/drive/MyDrive/animals/tiger/2a160681b2.jpg', '/content/drive/MyDrive/animals/tiger/2cc98f8b66.jpg', '/content/drive/MyDrive/animals/tiger/305f17f842.jpg', '/content/drive/MyDrive/animals/tiger/333dd0655b.jpg', '/content/drive/MyDrive/animals/tiger/337a5cb5b4.jpg', '/content/drive/MyDrive/animals/tiger/357a43a708.jpg', '/content/drive/MyDrive/animals/tiger/34b18d50f3.jpg', '/content/drive/MyDrive/animals/tiger/38ef994862.jpg', '/content/drive/MyDrive/animals/tiger/3cee1cf4dc.jpg', '/content/drive/MyDrive/animals/tiger/404a7c049c.jpg', '/content/drive/MyDrive/animals/tiger/3f090f0f2a.jpg', '/content/drive/MyDrive/animals/tiger/40be6dc37a.jpg', '/content/drive/MyDrive/animals/tiger/4a60c1dab1.jpg', '/content/drive/MyDrive/animals/tiger/4aac11a3a5.jpg', '/content/drive/MyDrive/animals/tiger/4d1264e8cf.jpg', '/content/drive/MyDrive/animals/tiger/4f964eb62b.jpg', '/content/drive/MyDrive/animals/tiger/4e2fc32d9c.jpg', '/content/drive/MyDrive/animals/tiger/590c32df87.jpg', '/content/drive/MyDrive/animals/tiger/5fcfd5cfdf.jpg', '/content/drive/MyDrive/animals/tiger/4f11bf2ff1.jpg', '/content/drive/MyDrive/animals/tiger/615af0f20c.jpg', '/content/drive/MyDrive/animals/tiger/690de519d7.jpg', '/content/drive/MyDrive/animals/tiger/6a5d1c3428.jpg', '/content/drive/MyDrive/animals/tiger/6de1c74688.jpg', '/content/drive/MyDrive/animals/tiger/712d7f2306.jpg', '/content/drive/MyDrive/animals/tiger/6e21804c31.jpg', '/content/drive/MyDrive/animals/tiger/742efecff3.jpg', '/content/drive/MyDrive/animals/tiger/74f09114bb.jpg', '/content/drive/MyDrive/animals/tiger/77af9205e3.jpg', '/content/drive/MyDrive/animals/tiger/7bba8e0f9d.jpg', '/content/drive/MyDrive/animals/tiger/7d4ca68105.jpg', '/content/drive/MyDrive/animals/tiger/82b6c017cf.jpg', '/content/drive/MyDrive/animals/tiger/7e2b924feb.jpg', '/content/drive/MyDrive/animals/tiger/83d34e5a86.jpg', '/content/drive/MyDrive/animals/tiger/84f838e71c.jpg', '/content/drive/MyDrive/animals/tiger/8ef5c5ba7d.jpg', '/content/drive/MyDrive/animals/tiger/854bea3f14.jpg', '/content/drive/MyDrive/animals/tiger/8f25c19159.jpg', '/content/drive/MyDrive/animals/tiger/9bac704bce.jpg', '/content/drive/MyDrive/animals/tiger/9d38858c20.jpg', '/content/drive/MyDrive/animals/tiger/9d4c220a26.jpg', '/content/drive/MyDrive/animals/tiger/9e35f9bce8.jpg', '/content/drive/MyDrive/animals/tiger/9f7545c2ef.jpg', '/content/drive/MyDrive/animals/tiger/9f448df9a0.jpg']\n"
          ]
        }
      ]
    },
    {
      "cell_type": "code",
      "execution_count": null,
      "metadata": {
        "tags": [],
        "id": "JSCDcMtmWuwz",
        "colab": {
          "base_uri": "https://localhost:8080/",
          "height": 269
        },
        "outputId": "201e7579-c0cf-4135-9acc-041ed6ab1728"
      },
      "outputs": [
        {
          "output_type": "stream",
          "name": "stdout",
          "text": [
            "1/1 [==============================] - 0s 57ms/step\n",
            "/content/drive/MyDrive/animals/bear/22ea4eea68.jpg most likely belongs to bear with a 100.00 percent confidence.\n"
          ]
        },
        {
          "output_type": "display_data",
          "data": {
            "text/plain": [
              "<Figure size 200x200 with 1 Axes>"
            ],
            "image/png": "[encoded data removed]"
          },
          "metadata": {}
        }
      ],
      "source": [
        "import random\n",
        "from glob import glob\n",
        "\n",
        "# Assuming multiple images are in '/content/drive/MyDrive/'\n",
        "img_path_list = glob('/content/drive/MyDrive/animals/bear/*.jpg')  # Modify the pattern if necessary\n",
        "\n",
        "if img_path_list:\n",
        "    img_name = random.choice(img_path_list)\n",
        "    img = tf.keras.utils.load_img(\n",
        "        img_name, target_size=(img_height, img_width)\n",
        "    )\n",
        "    img_array = tf.keras.utils.img_to_array(img)\n",
        "    img_array = tf.expand_dims(img_array, 0) # Create a batch\n",
        "\n",
        "    predictions = model.predict(img_array)\n",
        "    score = tf.nn.softmax(predictions[0])\n",
        "\n",
        "    print(\n",
        "        \"{} most likely belongs to {} with a {:.2f} percent confidence.\"\n",
        "        .format(img_name, train_ds.class_names[np.argmax(score)], 100 * np.max(score))\n",
        "    )\n",
        "\n",
        "    plt.figure(figsize=(2, 2))\n",
        "    plt.imshow((img_array[0].numpy()).astype('uint8'))\n",
        "    plt.title(\"{}:{:.2f}\".format(train_ds.class_names[np.argmax(score)], 100 * np.max(score)))\n",
        "    plt.axis('off')\n",
        "    plt.show()\n",
        "\n"
      ]
    }
  ],
  "metadata": {
    "kernelspec": {
      "display_name": "Python 3",
      "name": "python3"
    },
    "language_info": {
      "codemirror_mode": {
        "name": "ipython",
        "version": 3
      },
      "file_extension": ".py",
      "mimetype": "text/x-python",
      "name": "python",
      "nbconvert_exporter": "python",
      "pygments_lexer": "ipython3",
      "version": "3.11.5"
    },
    "colab": {
      "provenance": [],
      "gpuType": "T4"
    },
    "accelerator": "GPU"
  },
  "nbformat": 4,
  "nbformat_minor": 0
}